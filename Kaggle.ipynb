{
 "cells": [
  {
   "cell_type": "markdown",
   "metadata": {},
   "source": [
    "**Kaggle Competition - Santander**"
   ]
  },
  {
   "cell_type": "code",
   "execution_count": 5,
   "metadata": {
    "collapsed": true
   },
   "outputs": [],
   "source": [
    "import numpy as np\n",
    "import matplotlib.pyplot as plt\n",
    "from collections import defaultdict # for the data, we don't want to have to create a new array"
   ]
  },
  {
   "cell_type": "markdown",
   "metadata": {},
   "source": [
    "Reading in the data:"
   ]
  },
  {
   "cell_type": "code",
   "execution_count": null,
   "metadata": {
    "collapsed": false
   },
   "outputs": [],
   "source": [
    "raw_data = []\n",
    "train_data = defaultdict(list)\n",
    "test_data = defaultdict(list)\n",
    "\n",
    "def read_file(name):\n",
    "    '''\n",
    "    Params: name of file\n",
    "    returns: tuple [keys from the first line of csv file, rest of the lines as arr]\n",
    "    '''\n",
    "    data_keys = []\n",
    "    raw_data = []\n",
    "    # Reading in the keys of the value\n",
    "    with open(name, 'r') as f:\n",
    "        lines = f.readlines()\n",
    "        for k in lines[0].split(\",\"):\n",
    "            data_keys.append(k)\n",
    "        raw_data = lines[1:]\n",
    "    \n",
    "    return [data_keys, raw_data]\n",
    "\n",
    "def ingest_data(data_keys, data_arr, result):\n",
    "    '''\n",
    "    Params: keys from first line, data from the rest of lines, result in the form of a dict(defaultdict allowed)\n",
    "    returns: None\n",
    "    '''\n",
    "    # Taking in the data using the keys\n",
    "    for row in data_arr:\n",
    "        for key, dat in zip(data_keys, row):\n",
    "            result[key].append(dat)\n",
    "\n",
    "key, raw_train_data = read_file('train.csv')\n",
    "key, raw_test_data = read_file('test.csv')\n",
    "\n",
    "ingest_data(key, raw_train_data, train_data)\n",
    "ingest_data(key, raw_test_data, test_data)\n",
    "# Test to see the size of train_data\n",
    "print(len(train_data))\n",
    "print(len(test_data))"
   ]
  },
  {
   "cell_type": "code",
   "execution_count": null,
   "metadata": {
    "collapsed": true
   },
   "outputs": [],
   "source": []
  }
 ],
 "metadata": {
  "kernelspec": {
   "display_name": "Python 3",
   "language": "python",
   "name": "python3"
  },
  "language_info": {
   "codemirror_mode": {
    "name": "ipython",
    "version": 3
   },
   "file_extension": ".py",
   "mimetype": "text/x-python",
   "name": "python",
   "nbconvert_exporter": "python",
   "pygments_lexer": "ipython3",
   "version": "3.5.1"
  }
 },
 "nbformat": 4,
 "nbformat_minor": 0
}
