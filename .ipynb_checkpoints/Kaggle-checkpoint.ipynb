{
 "cells": [
  {
   "cell_type": "markdown",
   "metadata": {},
   "source": [
    "**Kaggle Competition - Santander**"
   ]
  },
  {
   "cell_type": "code",
   "execution_count": 14,
   "metadata": {
    "collapsed": false
   },
   "outputs": [],
   "source": [
    "import numpy as np\n",
    "import matplotlib.pyplot as plt\n",
    "from collections import defaultdict # for the data, we don't want to have to create a new array"
   ]
  },
  {
   "cell_type": "markdown",
   "metadata": {},
   "source": [
    "Reading in the data:"
   ]
  },
  {
   "cell_type": "code",
   "execution_count": 15,
   "metadata": {
    "collapsed": true
   },
   "outputs": [],
   "source": [
    "# Just flushing out buffer asap.\n",
    "import sys\n",
    "oldsysstdout = sys.stdout\n",
    "class flushfile():\n",
    "    def __init__(self, f):\n",
    "        self.f = f\n",
    "    def __getattr__(self,name): \n",
    "        return object.__getattribute__(self.f, name)\n",
    "    def write(self, x):\n",
    "        self.f.write(x)\n",
    "        self.f.flush()\n",
    "    def flush(self):\n",
    "        self.f.flush()\n",
    "sys.stdout = flushfile(sys.stdout)"
   ]
  },
  {
   "cell_type": "code",
   "execution_count": 16,
   "metadata": {
    "collapsed": true
   },
   "outputs": [],
   "source": [
    "raw_data = []\n",
    "train_data = defaultdict(list)\n",
    "test_data = defaultdict(list)"
   ]
  },
  {
   "cell_type": "code",
   "execution_count": 17,
   "metadata": {
    "collapsed": true
   },
   "outputs": [],
   "source": [
    "def read_file(name):\n",
    "    '''\n",
    "    Params: name of file\n",
    "    returns: tuple [keys from the first line of csv file, rest of the lines as arr]\n",
    "    '''\n",
    "    data_keys = []\n",
    "    raw_data = []\n",
    "    # Reading in the keys of the value\n",
    "    with open(name, 'r') as f:\n",
    "        lines = f.readlines()\n",
    "        for k in lines[0].split(\",\"):\n",
    "            data_keys.append(k)\n",
    "        raw_data = lines[1:]\n",
    "    return [data_keys, raw_data]"
   ]
  },
  {
   "cell_type": "code",
   "execution_count": 18,
   "metadata": {
    "collapsed": true
   },
   "outputs": [],
   "source": [
    "def ingest_data(data_keys, data_arr, result, flags, flag_replace):\n",
    "    '''\n",
    "    Params: keys from first line, data from the rest of lines, result in the form of a dict(defaultdict allowed)\n",
    "    returns: 2D ndarray\n",
    "    '''\n",
    "    # Taking in the data using the keys\n",
    "    arr_out = []\n",
    "    for row in data_arr:\n",
    "        arr_in = []\n",
    "        for key, dat in zip(data_keys, row.split(\",\")):\n",
    "            num = float(dat)\n",
    "            if dat in flags:\n",
    "                result[key].append(flag_replace)\n",
    "                arr_in.append(flag_replace)\n",
    "            else:\n",
    "                result[key].append(num)\n",
    "                arr_in.append(num)\n",
    "        arr_out.append(arr_in)\n",
    "    return np.array(arr_out, dtype=np.float64)"
   ]
  },
  {
   "cell_type": "code",
   "execution_count": 19,
   "metadata": {
    "collapsed": false
   },
   "outputs": [],
   "source": [
    "train_key, raw_train_data = read_file('train.csv')\n",
    "test_key, raw_test_data = read_file('test.csv')"
   ]
  },
  {
   "cell_type": "code",
   "execution_count": 20,
   "metadata": {
    "collapsed": false
   },
   "outputs": [],
   "source": [
    "train_data = ingest_data(train_key, raw_train_data, train_data, [\"9999999999\", \"-999999\"], -1)\n",
    "# test_data = ingest_data(test_key, raw_test_data, test_data) Remove this line temporarily for testing"
   ]
  },
  {
   "cell_type": "code",
   "execution_count": 21,
   "metadata": {
    "collapsed": false
   },
   "outputs": [],
   "source": [
    "# Test to see the size of train_data\n",
    "print(len(train_data))\n",
    "print(len(test_data))\n",
    "print(train_data.shape)"
   ]
  },
  {
   "cell_type": "code",
   "execution_count": 22,
   "metadata": {
    "collapsed": false
   },
   "outputs": [],
   "source": [
    "# Prune the zeros\n",
    "columns_removed = np.all(train_data == 0, axis=0)\n",
    "train_data = train_data[:,~columns_removed]\n",
    "print(train_data.shape)"
   ]
  },
  {
   "cell_type": "code",
   "execution_count": 23,
   "metadata": {
    "collapsed": false
   },
   "outputs": [],
   "source": [
    "# split the values into X and y\n",
    "train_X = train_data[:,:-1]\n",
    "train_y = train_data[:,-1]\n",
    "print(train_X.shape)\n",
    "print(train_y[:50]) # Okay we have at least 1 here, sanity check"
   ]
  },
  {
   "cell_type": "markdown",
   "metadata": {
    "collapsed": true
   },
   "source": [
    "Data preprocessing"
   ]
  },
  {
   "cell_type": "code",
   "execution_count": 24,
   "metadata": {
    "collapsed": false
   },
   "outputs": [],
   "source": [
    "# Normalize\n",
    "train_X -= np.mean(train_X, axis=0)\n",
    "train_X /= np.std(train_X, axis=0)\n",
    "cov = np.dot(train_X.T, train_X)/train_X.shape[0]\n",
    "U,S,V = np.linalg.svd(cov)\n",
    "train_X_reduced = np.dot(train_X, U[:,:100])\n",
    "print(train_X_reduced.shape)"
   ]
  },
  {
   "cell_type": "code",
   "execution_count": 25,
   "metadata": {
    "collapsed": false
   },
   "outputs": [],
   "source": [
    "# Create CV test set\n",
    "from sklearn.cross_validation import KFold\n",
    "kf = KFold(train_X_reduced.shape[0], n_folds=4)\n",
    "len(kf)\n",
    "print(kf)"
   ]
  },
  {
   "cell_type": "code",
   "execution_count": null,
   "metadata": {
    "collapsed": false
   },
   "outputs": [],
   "source": [
    "# 11 line NN\n",
    "X = train_X_reduced\n",
    "y = train_y\n",
    "syn0 = 2*np.random.random((X.shape[1], 100))-1\n",
    "syn1 = 2*np.random.random((100,1))-1\n",
    "for j in range(1):\n",
    "    l1 = 1/(1+np.exp(-(np.dot(X,syn0))))\n",
    "    l2 = 1/(1+np.exp(-(np.dot(l1, syn1))))\n",
    "    l2_delta = (y-l2)*(l2*(1-l2))\n",
    "    l1_delta = l2_delta.dot(syn1.T)*(l1*(1-l1))\n",
    "    syn1 += l1.T.dot(l2_delta)\n",
    "    syn0 += X.T.dot(l1_delta)\n",
    "    print(\"Epoch count : \" + str(j))"
   ]
  },
  {
   "cell_type": "code",
   "execution_count": null,
   "metadata": {
    "collapsed": true
   },
   "outputs": [],
   "source": []
  }
 ],
 "metadata": {
  "kernelspec": {
   "display_name": "Python 3",
   "language": "python",
   "name": "python3"
  }
 },
 "nbformat": 4,
 "nbformat_minor": 0
}
